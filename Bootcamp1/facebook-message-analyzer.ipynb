{
 "cells": [
  {
   "cell_type": "code",
   "execution_count": 64,
   "metadata": {},
   "outputs": [],
   "source": [
    "# Facebook data mining bootcamp !!!\n",
    "\n",
    "# important imports \n",
    "import os\n",
    "import json\n",
    "import numpy as np\n",
    "import pylab as pl\n",
    "import datetime\n",
    "from datetime import datetime\n"
   ]
  },
  {
   "cell_type": "code",
   "execution_count": 65,
   "metadata": {},
   "outputs": [],
   "source": [
    "# globals \n",
    "\n",
    "CURRENT_DIRECTORY = os.getcwd()\n",
    "NUMBER_TO_ANALYZE = 900\n",
    "MESSAGE_THRESHOLD = 50\n",
    "MESSAGE_BOUND = 100000\n"
   ]
  },
  {
   "cell_type": "code",
   "execution_count": 66,
   "metadata": {},
   "outputs": [
    {
     "name": "stdout",
     "output_type": "stream",
     "text": [
      "Analyzing 900 chats...\n"
     ]
    }
   ],
   "source": [
    "# get json data for the individual chats in your messages folder \n",
    "\n",
    "def get_json_data(chat):\n",
    "    try:\n",
    "        # you may need to change the directory path, depends on where you've downloaded your fb messages to. \n",
    "        json_location = CURRENT_DIRECTORY + \"/messages/inbox/\" + chat + \"/message_1.json\"\n",
    "        #print(json_location,'\\r')\n",
    "        with open(json_location) as json_file:\n",
    "            json_data = json.load(json_file)\n",
    "            \n",
    "            return json_data\n",
    "    except IOError:\n",
    "        pass # some things the directory aren't messages (DS_Store, stickers_used, etc.)\n",
    "\n",
    "\n",
    "    \n",
    "# create new globals for data to be plotted \n",
    "chats = os.listdir(CURRENT_DIRECTORY + \"/messages/inbox\")[:NUMBER_TO_ANALYZE]\n",
    "sorted_chats = []\n",
    "final_data_messages = {}\n",
    "final_data_times = {}\n",
    "final_data_words = {}\n",
    "invalid_message_count = 0\n",
    "\n",
    "\n",
    "\n",
    "print('Analyzing ' + str(min(NUMBER_TO_ANALYZE, len(chats))) + ' chats...')\n"
   ]
  },
  {
   "cell_type": "code",
   "execution_count": 67,
   "metadata": {},
   "outputs": [
    {
     "name": "stdout",
     "output_type": "stream",
     "text": [
      "Finished processing chats...\n"
     ]
    }
   ],
   "source": [
    "# sort data into new gobals \n",
    "\n",
    "for chat in chats:\n",
    "    url = chat\n",
    "    json_data = get_json_data(chat)\n",
    "\n",
    "    if json_data != None:\n",
    "        messages = json_data[\"messages\"]\n",
    "        if len(messages) >= MESSAGE_THRESHOLD and len(messages) <= MESSAGE_BOUND:\n",
    "            sorted_chats.append((len(messages), chat, messages))\n",
    "\n",
    "sorted_chats.sort(reverse=True)\n",
    "\n",
    "print('Finished processing chats...')"
   ]
  },
  {
   "cell_type": "code",
   "execution_count": 68,
   "metadata": {
    "scrolled": true
   },
   "outputs": [
    {
     "name": "stdout",
     "output_type": "stream",
     "text": [
      "Found 3404 invalid messages...\n",
      "Found 220 chats with 50 messages or more\n"
     ]
    }
   ],
   "source": [
    "# continue sorting messages into the new globals (dictionaries)\n",
    "# you may have to alter this code a bit depending on what functions you would like to add\n",
    "\n",
    "\n",
    "for i, (messagesn, chat, messages) in enumerate(sorted_chats):\n",
    "    number_messages = {}\n",
    "    person_to_times = {}\n",
    "    number_words = {}\n",
    "\n",
    "    #print(str(i) + \" - \" + str(messagesn) + \" messages - \" + str(chat))\n",
    "\n",
    "    for message in messages:\n",
    "        try:\n",
    "            name = message[\"sender_name\"]\n",
    "            time = message[\"timestamp_ms\"]\n",
    "            message_content = message[\"content\"]\n",
    "\n",
    "            number_messages[name] = number_messages.get(name, 0)\n",
    "            number_messages[name] += 1\n",
    "\n",
    "            person_to_times[name] = person_to_times.get(name, [])\n",
    "            person_to_times[name].append(datetime.utcfromtimestamp(time/1000.0))\n",
    "\n",
    "            number_words[name] = number_words.get(name, [])\n",
    "            number_words[name].append(len(message_content.split()))\n",
    "        except KeyError:\n",
    "            # happens for special cases like users who deactivated, unfriended, blocked\n",
    "            invalid_message_count += 1\n",
    "\n",
    "    final_data_messages[i] = number_messages\n",
    "    final_data_times[i] = person_to_times\n",
    "    final_data_words[i] = number_words\n",
    "\n",
    "    \n",
    "\n",
    "print('Found ' + str(invalid_message_count) + ' invalid messages...')\n",
    "print('Found ' + str(len(sorted_chats)) + ' chats with ' + str(MESSAGE_THRESHOLD) + ' messages or more')"
   ]
  },
  {
   "cell_type": "code",
   "execution_count": 72,
   "metadata": {
    "scrolled": true
   },
   "outputs": [
    {
     "name": "stdout",
     "output_type": "stream",
     "text": [
      "3\n"
     ]
    }
   ],
   "source": [
    "#First feature: find out how many left me on seen and how many did I leave on seen (actually just who sent the last message)\n",
    "\n",
    "seenByMe=0\n",
    "meBeingSeen=0\n",
    "saidGoodbye=0\n",
    "\n",
    "for i, (messagesn, chat, messages) in enumerate(sorted_chats):    \n",
    "    try:\n",
    "        lastmess=messages[messagesn-1]['content']\n",
    "        if not ('adios' in lastmess or 'bye' in lastmess or 'Bye' in lastmess):\n",
    "            if messages[messagesn-1][\"sender_name\"] == 'Santiago Mille' and ('content' in messages[messagesn-1].keys()):\n",
    "                meBeingSeen += 1\n",
    "            else:\n",
    "                seenByMe +=1\n",
    "        else:\n",
    "            saidGoodbye+=1\n",
    "    except KeyError:\n",
    "        # happens for special cases like users who deactivated, unfriended, blocked\n",
    "        print('',end='')\n",
    "        \n",
    "print(saidGoodbye)\n",
    "        \n",
    "\n"
   ]
  },
  {
   "cell_type": "code",
   "execution_count": 74,
   "metadata": {},
   "outputs": [
    {
     "name": "stdout",
     "output_type": "stream",
     "text": [
      "Person i've sent the most pictures/files:  MarioAlberto_20b2luno5Q  sending:  333\n",
      "I have sent a total of  1394  files/pictures in  220  conversations, having and average of:  6.336363636363636  attachments per conv.\n"
     ]
    }
   ],
   "source": [
    "#Second feature average amout of attachments per conversation (aka: my personal cloud storage)\n",
    "\n",
    "totalAtt=0\n",
    "convs=len(sorted_chats)\n",
    "conv_with_most_att=0\n",
    "person_with_most_att=''\n",
    "\n",
    "for i, (messagesn, chat, messages) in enumerate(sorted_chats): \n",
    "    \n",
    "    att_per_chat=0\n",
    "    \n",
    "    name = chat\n",
    "    \n",
    "    for message in messages:\n",
    "        try:\n",
    "            if message[\"sender_name\"] == 'Santiago Mille' and ('files' in message.keys() or 'photos' in message.keys()):\n",
    "                try:\n",
    "                    totalAtt +=len(message['files'])\n",
    "                    att_per_chat+=len(message['files'])\n",
    "                except:\n",
    "                    try:\n",
    "                        totalAtt +=len(message['photos'])\n",
    "                        att_per_chat+=len(message['photos'])\n",
    "                    except:\n",
    "                        print('Error')\n",
    "        except KeyError:\n",
    "            # happens for special cases like users who deactivated, unfriended, blocked\n",
    "            print(\"not valid chat\")\n",
    "\n",
    "    if att_per_chat>conv_with_most_att:\n",
    "        conv_with_most_att=att_per_chat\n",
    "        person_with_most_att = name\n",
    "        \n",
    "avgAtt=totalAtt/convs\n",
    "        \n",
    "print(\"Person i've sent the most pictures/files: \", person_with_most_att, ' sending: ', conv_with_most_att)\n",
    "print(\"I have sent a total of \", totalAtt, ' files/pictures in ', convs, ' conversations, having and average of: ', avgAtt, ' attachments per conv.')\n",
    "    "
   ]
  },
  {
   "cell_type": "code",
   "execution_count": 82,
   "metadata": {},
   "outputs": [
    {
     "data": {
      "image/png": "[encoded data removed]",
      "text/plain": [
       "<Figure size 432x288 with 1 Axes>"
      ]
     },
     "metadata": {
      "needs_background": "light"
     },
     "output_type": "display_data"
    },
    {
     "name": "stdout",
     "output_type": "stream",
     "text": [
      "{'Seen by me': 108, 'Me being seen :(': 96}\n"
     ]
    },
    {
     "data": {
      "image/png": "[encoded data removed]",
      "text/plain": [
       "<Figure size 432x288 with 1 Axes>"
      ]
     },
     "metadata": {
      "needs_background": "light"
     },
     "output_type": "display_data"
    },
    {
     "name": "stdout",
     "output_type": "stream",
     "text": [
      "6.336363636363636  -  333\n"
     ]
    }
   ],
   "source": [
    "# plotting functions\n",
    "\n",
    "\n",
    "def plot_num_messages(chat_number):\n",
    "    plotted_data = final_data_messages[chat_number]\n",
    "    X = np.arange(len(plotted_data))\n",
    "    print(list(plotted_data.values()))\n",
    "    pl.bar(X, list(plotted_data.values()), align='center', width=0.5, color = 'r', bottom = 0.3)\n",
    "    pl.xticks(X, plotted_data.keys(), rotation = 90)\n",
    "    pl.title('Number of Messages Sent')\n",
    "    pl.tight_layout()\n",
    "    pl.show()\n",
    "    \n",
    "    \n",
    "def plot_histogram_time(chat_number):\n",
    "    person_to_times = final_data_times[chat_number]\n",
    "    pl.xlabel('Time')\n",
    "    pl.ylabel('Number of Messages')\n",
    "    pl.title('# of Messages Over Time')\n",
    "    colors = ['b', 'r', 'c', 'm', 'y', 'k', 'w', 'g']\n",
    "    for i , person in enumerate(person_to_times):\n",
    "        plotted_data = []\n",
    "        for time in person_to_times[person]:\n",
    "            plotted_data.append(time)\n",
    "        pl.hist(plotted_data, 100, alpha=0.3, label=person, facecolor=colors[i % len(colors)])\n",
    "    pl.legend()\n",
    "    pl.xticks(rotation=90)\n",
    "    pl.tight_layout()\n",
    "    pl.show()\n",
    "\n",
    "    \n",
    "def plot_histogram_words(chat_number):\n",
    "    temp = {}\n",
    "    for person in final_data_words[chat_number]:\n",
    "        temp[person] = np.average(final_data_words[chat_number][person])\n",
    "    plotted_data = temp\n",
    "    X = np.arange(len(plotted_data))\n",
    "    \n",
    "    pl.bar(X, list(plotted_data.values()), align='center', width=0.5, color = 'r', bottom = 0.3)\n",
    "    pl.xticks(X, plotted_data.keys(), rotation = 90)\n",
    "    pl.title('Average Word Count')\n",
    "    pl.tight_layout()\n",
    "    pl.show()\n",
    "    \n",
    "def plot(chat_number):\n",
    "    #plot_num_messages(chat_number)\n",
    "    #plot_histogram_time(chat_number)\n",
    "    #plot_histogram_words(chat_number)\n",
    "    plotSeen()\n",
    "    plotFilesSent()\n",
    "    \n",
    "def plotSeen():\n",
    "    X = np.arange(2)\n",
    "    data = {'Seen by me':seenByMe,'Me being seen :(':meBeingSeen}\n",
    "    pl.bar(X, list(data.values()), align='center', width=0.3, color = 'r', bottom = 0.3)\n",
    "    pl.xticks(X, data.keys(), rotation = 90)\n",
    "    pl.title('Seen-o-meter')\n",
    "    pl.tight_layout()\n",
    "    pl.show()\n",
    "    print(data)\n",
    "    \n",
    "def plotFilesSent():\n",
    "    X = np.arange(2)\n",
    "    data = {'Avg. files sent':avgAtt,'Max. files in a conv (/10)':conv_with_most_att/100}\n",
    "    pl.bar(X, list(data.values()), align='center', width=0.3, color = 'r', bottom = 0.3)\n",
    "    pl.xticks(X, data.keys(), rotation = 90)\n",
    "    pl.title('My personal cloud storage')\n",
    "    pl.tight_layout()\n",
    "    pl.show()\n",
    "    print(avgAtt, ' - ', conv_with_most_att)\n",
    "\n",
    "\n",
    "\n",
    "plot(50)"
   ]
  }
 ],
 "metadata": {
  "kernelspec": {
   "display_name": "Python 3",
   "language": "python",
   "name": "python3"
  },
  "language_info": {
   "codemirror_mode": {
    "name": "ipython",
    "version": 3
   },
   "file_extension": ".py",
   "mimetype": "text/x-python",
   "name": "python",
   "nbconvert_exporter": "python",
   "pygments_lexer": "ipython3",
   "version": "3.7.3"
  }
 },
 "nbformat": 4,
 "nbformat_minor": 2
}
